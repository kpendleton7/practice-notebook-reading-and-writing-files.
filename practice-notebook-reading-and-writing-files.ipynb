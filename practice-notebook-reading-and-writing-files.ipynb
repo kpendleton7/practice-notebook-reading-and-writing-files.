{
 "cells": [
  {
   "cell_type": "markdown",
   "id": "d3f0945b",
   "metadata": {
    "papermill": {
     "duration": 0.003345,
     "end_time": "2023-10-16T19:47:18.975918",
     "exception": false,
     "start_time": "2023-10-16T19:47:18.972573",
     "status": "completed"
    },
    "tags": []
   },
   "source": [
    "# Practice Notebook: Reading and Writing Files"
   ]
  },
  {
   "cell_type": "markdown",
   "id": "3b7b9ff1",
   "metadata": {
    "papermill": {
     "duration": 0.002678,
     "end_time": "2023-10-16T19:47:18.983563",
     "exception": false,
     "start_time": "2023-10-16T19:47:18.980885",
     "status": "completed"
    },
    "tags": []
   },
   "source": [
    "In this exercise, we will test your knowledge of reading and writing files by playing around with some text files. \n",
    "<br><br>\n",
    "Let's say we have a text file containing current visitors at a hotel.  We'll call it, *guests.txt*.  Run the following code to create the file.  The file will automatically populate with each initial guest's first name on its own line."
   ]
  },
  {
   "cell_type": "code",
   "execution_count": 1,
   "id": "c6317003",
   "metadata": {
    "execution": {
     "iopub.execute_input": "2023-10-16T19:47:18.991327Z",
     "iopub.status.busy": "2023-10-16T19:47:18.990692Z",
     "iopub.status.idle": "2023-10-16T19:47:18.999608Z",
     "shell.execute_reply": "2023-10-16T19:47:18.998574Z"
    },
    "papermill": {
     "duration": 0.015178,
     "end_time": "2023-10-16T19:47:19.001619",
     "exception": false,
     "start_time": "2023-10-16T19:47:18.986441",
     "status": "completed"
    },
    "tags": []
   },
   "outputs": [],
   "source": [
    "guests = open(\"guests.txt\", \"w\")\n",
    "initial_guests = [\"Bob\", \"Andrea\", \"Manuel\", \"Polly\", \"Khalid\"]\n",
    "\n",
    "for i in initial_guests:\n",
    "    guests.write(i + \"\\n\")\n",
    "    \n",
    "guests.close()"
   ]
  },
  {
   "cell_type": "markdown",
   "id": "135c3880",
   "metadata": {
    "papermill": {
     "duration": 0.002793,
     "end_time": "2023-10-16T19:47:19.007567",
     "exception": false,
     "start_time": "2023-10-16T19:47:19.004774",
     "status": "completed"
    },
    "tags": []
   },
   "source": [
    "No output is generated for the above code cell.  To check the contents of the newly created *guests.txt* file, run the following code."
   ]
  },
  {
   "cell_type": "code",
   "execution_count": 2,
   "id": "8ca1db37",
   "metadata": {
    "execution": {
     "iopub.execute_input": "2023-10-16T19:47:19.014689Z",
     "iopub.status.busy": "2023-10-16T19:47:19.014175Z",
     "iopub.status.idle": "2023-10-16T19:47:19.018801Z",
     "shell.execute_reply": "2023-10-16T19:47:19.017891Z"
    },
    "papermill": {
     "duration": 0.010071,
     "end_time": "2023-10-16T19:47:19.020509",
     "exception": false,
     "start_time": "2023-10-16T19:47:19.010438",
     "status": "completed"
    },
    "tags": []
   },
   "outputs": [
    {
     "name": "stdout",
     "output_type": "stream",
     "text": [
      "Bob\n",
      "\n",
      "Andrea\n",
      "\n",
      "Manuel\n",
      "\n",
      "Polly\n",
      "\n",
      "Khalid\n",
      "\n"
     ]
    }
   ],
   "source": [
    "with open(\"guests.txt\") as guests:\n",
    "    for line in guests:\n",
    "        print(line)"
   ]
  },
  {
   "cell_type": "markdown",
   "id": "fb315097",
   "metadata": {
    "papermill": {
     "duration": 0.002603,
     "end_time": "2023-10-16T19:47:19.025980",
     "exception": false,
     "start_time": "2023-10-16T19:47:19.023377",
     "status": "completed"
    },
    "tags": []
   },
   "source": [
    "The output shows that our *guests.txt* file is correctly populated with each initial guest's first name on its own line.  Cool!\n",
    "<br><br>\n",
    "Now suppose we want to update our file as guests check in and out.  Fill in the missing code in the following cell to add guests to the *guests.txt* file as they check in."
   ]
  },
  {
   "cell_type": "code",
   "execution_count": 3,
   "id": "27a19b87",
   "metadata": {
    "execution": {
     "iopub.execute_input": "2023-10-16T19:47:19.033172Z",
     "iopub.status.busy": "2023-10-16T19:47:19.032468Z",
     "iopub.status.idle": "2023-10-16T19:47:19.036633Z",
     "shell.execute_reply": "2023-10-16T19:47:19.036009Z"
    },
    "papermill": {
     "duration": 0.009313,
     "end_time": "2023-10-16T19:47:19.038155",
     "exception": false,
     "start_time": "2023-10-16T19:47:19.028842",
     "status": "completed"
    },
    "tags": []
   },
   "outputs": [],
   "source": [
    "new_guests = [\"Sam\", \"Danielle\", \"Jacob\"]\n",
    "\n",
    "with open(\"guests.txt\", \"a\") as guests:\n",
    "    for i in new_guests:\n",
    "        guests.write(i + \"\\n\")\n",
    "\n",
    "guests.close()"
   ]
  },
  {
   "cell_type": "markdown",
   "id": "590088a3",
   "metadata": {
    "papermill": {
     "duration": 0.002638,
     "end_time": "2023-10-16T19:47:19.043698",
     "exception": false,
     "start_time": "2023-10-16T19:47:19.041060",
     "status": "completed"
    },
    "tags": []
   },
   "source": [
    "To check whether your code correctly added the new guests to the *guests.txt* file, run the following cell."
   ]
  },
  {
   "cell_type": "code",
   "execution_count": 4,
   "id": "9d61e509",
   "metadata": {
    "execution": {
     "iopub.execute_input": "2023-10-16T19:47:19.050884Z",
     "iopub.status.busy": "2023-10-16T19:47:19.050374Z",
     "iopub.status.idle": "2023-10-16T19:47:19.055011Z",
     "shell.execute_reply": "2023-10-16T19:47:19.054189Z"
    },
    "papermill": {
     "duration": 0.010157,
     "end_time": "2023-10-16T19:47:19.056709",
     "exception": false,
     "start_time": "2023-10-16T19:47:19.046552",
     "status": "completed"
    },
    "tags": []
   },
   "outputs": [
    {
     "name": "stdout",
     "output_type": "stream",
     "text": [
      "Bob\n",
      "\n",
      "Andrea\n",
      "\n",
      "Manuel\n",
      "\n",
      "Polly\n",
      "\n",
      "Khalid\n",
      "\n",
      "Sam\n",
      "\n",
      "Danielle\n",
      "\n",
      "Jacob\n",
      "\n"
     ]
    }
   ],
   "source": [
    "with open(\"guests.txt\") as guests:\n",
    "    for line in guests:\n",
    "        print(line)"
   ]
  },
  {
   "cell_type": "markdown",
   "id": "6faf6dba",
   "metadata": {
    "papermill": {
     "duration": 0.002775,
     "end_time": "2023-10-16T19:47:19.062520",
     "exception": false,
     "start_time": "2023-10-16T19:47:19.059745",
     "status": "completed"
    },
    "tags": []
   },
   "source": [
    "The current names in the *guests.txt* file should be:  Bob, Andrea, Manuel, Polly, Khalid, Sam, Danielle and Jacob.\n",
    "<br><br>\n",
    "Was the *guests.txt* file correctly appended with the new guests? If not, go back and edit your code making sure to fill in the gaps appropriately so that the new guests are correctly added to the *guests.txt* file.  Once the new guests are successfully added, you have filled in the missing code correctly.  Great!\n",
    "<br><br>\n",
    "Now let's remove the guests that have checked out already.  There are several ways to do this, however, the method we will choose for this exercise is outlined as follows:\n",
    "1. Open the file in \"read\" mode.\n",
    "2. Iterate over each line in the file and put each guest's name into a Python list.\n",
    "3. Open the file once again in \"write\" mode.\n",
    "4. Add each guest's name in the Python list to the file one by one.\n",
    "\n",
    "<br>\n",
    "Ready? Fill in the missing code in the following cell to remove the guests that have checked out already."
   ]
  },
  {
   "cell_type": "code",
   "execution_count": 5,
   "id": "e466ceb7",
   "metadata": {
    "execution": {
     "iopub.execute_input": "2023-10-16T19:47:19.070001Z",
     "iopub.status.busy": "2023-10-16T19:47:19.069308Z",
     "iopub.status.idle": "2023-10-16T19:47:19.074217Z",
     "shell.execute_reply": "2023-10-16T19:47:19.073558Z"
    },
    "papermill": {
     "duration": 0.01047,
     "end_time": "2023-10-16T19:47:19.075935",
     "exception": false,
     "start_time": "2023-10-16T19:47:19.065465",
     "status": "completed"
    },
    "tags": []
   },
   "outputs": [],
   "source": [
    "checked_out=[\"Andrea\", \"Manuel\", \"Khalid\"]\n",
    "temp_list=[]\n",
    "\n",
    "with open(\"guests.txt\", \"r\") as guests:\n",
    "    for g in guests:\n",
    "        temp_list.append(g.strip())\n",
    "\n",
    "with open(\"guests.txt\", \"w\") as guests:\n",
    "    for name in temp_list:\n",
    "        if name not in checked_out:\n",
    "            guests.write(name + \"\\n\")"
   ]
  },
  {
   "cell_type": "markdown",
   "id": "20ace745",
   "metadata": {
    "papermill": {
     "duration": 0.002836,
     "end_time": "2023-10-16T19:47:19.081958",
     "exception": false,
     "start_time": "2023-10-16T19:47:19.079122",
     "status": "completed"
    },
    "tags": []
   },
   "source": [
    "To check whether your code correctly removed the checked out guests from the *guests.txt* file, run the following cell."
   ]
  },
  {
   "cell_type": "code",
   "execution_count": 6,
   "id": "5940b8a7",
   "metadata": {
    "execution": {
     "iopub.execute_input": "2023-10-16T19:47:19.089362Z",
     "iopub.status.busy": "2023-10-16T19:47:19.088893Z",
     "iopub.status.idle": "2023-10-16T19:47:19.093351Z",
     "shell.execute_reply": "2023-10-16T19:47:19.092592Z"
    },
    "papermill": {
     "duration": 0.010136,
     "end_time": "2023-10-16T19:47:19.095078",
     "exception": false,
     "start_time": "2023-10-16T19:47:19.084942",
     "status": "completed"
    },
    "tags": []
   },
   "outputs": [
    {
     "name": "stdout",
     "output_type": "stream",
     "text": [
      "Bob\n",
      "\n",
      "Polly\n",
      "\n",
      "Sam\n",
      "\n",
      "Danielle\n",
      "\n",
      "Jacob\n",
      "\n"
     ]
    }
   ],
   "source": [
    "with open(\"guests.txt\") as guests:\n",
    "    for line in guests:\n",
    "        print(line)"
   ]
  },
  {
   "cell_type": "markdown",
   "id": "9c837fe1",
   "metadata": {
    "papermill": {
     "duration": 0.00294,
     "end_time": "2023-10-16T19:47:19.101228",
     "exception": false,
     "start_time": "2023-10-16T19:47:19.098288",
     "status": "completed"
    },
    "tags": []
   },
   "source": [
    "The current names in the *guests.txt* file should be:  Bob, Polly, Sam, Danielle and Jacob.\n",
    "<br><br>\n",
    "Were the names of the checked out guests correctly removed from the *guests.txt* file? If not, go back and edit your code making sure to fill in the gaps appropriately so that the checked out guests are correctly removed from the *guests.txt* file. Once the checked out guests are successfully removed, you have filled in the missing code correctly. Awesome!\n",
    "<br><br>\n",
    "Now let's check whether Bob and Andrea are still checked in.  How could we do this? We'll just read through each line in the file to see if their name is in there.  Run the following code to check whether Bob and Andrea are still checked in."
   ]
  },
  {
   "cell_type": "code",
   "execution_count": 7,
   "id": "14f9af7b",
   "metadata": {
    "execution": {
     "iopub.execute_input": "2023-10-16T19:47:19.108722Z",
     "iopub.status.busy": "2023-10-16T19:47:19.108436Z",
     "iopub.status.idle": "2023-10-16T19:47:19.113542Z",
     "shell.execute_reply": "2023-10-16T19:47:19.112857Z"
    },
    "papermill": {
     "duration": 0.011165,
     "end_time": "2023-10-16T19:47:19.115459",
     "exception": false,
     "start_time": "2023-10-16T19:47:19.104294",
     "status": "completed"
    },
    "tags": []
   },
   "outputs": [
    {
     "name": "stdout",
     "output_type": "stream",
     "text": [
      "Bob is checked in\n",
      "Andrea is not checked in\n"
     ]
    }
   ],
   "source": [
    "guests_to_check = ['Bob', 'Andrea']\n",
    "checked_in = []\n",
    "\n",
    "with open(\"guests.txt\",\"r\") as guests:\n",
    "    for g in guests:\n",
    "        checked_in.append(g.strip())\n",
    "    for check in guests_to_check:\n",
    "        if check in checked_in:\n",
    "            print(\"{} is checked in\".format(check))\n",
    "        else:\n",
    "            print(\"{} is not checked in\".format(check))"
   ]
  },
  {
   "cell_type": "markdown",
   "id": "c1fd453a",
   "metadata": {
    "papermill": {
     "duration": 0.002965,
     "end_time": "2023-10-16T19:47:19.121669",
     "exception": false,
     "start_time": "2023-10-16T19:47:19.118704",
     "status": "completed"
    },
    "tags": []
   },
   "source": [
    "We can see that Bob is checked in while Andrea is not.  Nice work! You've learned the basics of reading and writing files in Python!"
   ]
  }
 ],
 "metadata": {
  "kernelspec": {
   "display_name": "Python 3",
   "language": "python",
   "name": "python3"
  },
  "language_info": {
   "codemirror_mode": {
    "name": "ipython",
    "version": 3
   },
   "file_extension": ".py",
   "mimetype": "text/x-python",
   "name": "python",
   "nbconvert_exporter": "python",
   "pygments_lexer": "ipython3",
   "version": "3.10.12"
  },
  "papermill": {
   "default_parameters": {},
   "duration": 3.365794,
   "end_time": "2023-10-16T19:47:19.442632",
   "environment_variables": {},
   "exception": null,
   "input_path": "__notebook__.ipynb",
   "output_path": "__notebook__.ipynb",
   "parameters": {},
   "start_time": "2023-10-16T19:47:16.076838",
   "version": "2.4.0"
  }
 },
 "nbformat": 4,
 "nbformat_minor": 5
}
